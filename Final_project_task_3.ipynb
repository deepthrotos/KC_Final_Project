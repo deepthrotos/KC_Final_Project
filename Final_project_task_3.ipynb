{
 "cells": [
  {
   "cell_type": "markdown",
   "metadata": {
    "pycharm": {
     "name": "#%% md\n"
    }
   },
   "source": [
    "# Проект: вариант 2\n",
    "### Задание 3."
   ]
  },
  {
   "cell_type": "markdown",
   "metadata": {
    "pycharm": {
     "name": "#%% md\n"
    }
   },
   "source": [
    "**Условие**  \n",
    "3.1 Реализуйте функцию, которая будет автоматически подгружать информацию из дополнительного файла groups_add.csv (заголовки могут отличаться) и на основании дополнительных параметров пересчитывать метрики.  \n",
    "3.2 Реализуйте функцию, которая будет строить графики по получаемым метрикам."
   ]
  },
  {
   "cell_type": "code",
   "execution_count": 140,
   "metadata": {
    "pycharm": {
     "name": "#%%\n"
    }
   },
   "outputs": [],
   "source": [
    "import pandas as pd\n",
    "import requests\n",
    "from urllib.parse import urlencode\n",
    "\n",
    "import seaborn as sns\n",
    "import matplotlib.pyplot as plt\n",
    "\n",
    "import warnings\n",
    "warnings. filterwarnings('ignore')"
   ]
  },
  {
   "cell_type": "code",
   "execution_count": 154,
   "metadata": {
    "pycharm": {
     "name": "#%%\n"
    }
   },
   "outputs": [],
   "source": [
    "def add_info_and_calc_metrics(path):\n",
    "    \n",
    "    # загружаем новый файл\n",
    "    \n",
    "    base_url = 'https://cloud-api.yandex.net/v1/disk/public/resources/download?'\n",
    "    final_url = base_url + urlencode(dict(public_key=path))\n",
    "    response = requests.get(final_url)\n",
    "    download_url = response.json()['href']\n",
    "    download_response = requests.get(download_url)\n",
    "    with open('groups_add.csv', 'wb') as f:\n",
    "        f.write(download_response.content)\n",
    "    \n",
    "    # считываем файлы в датафреймы\n",
    "    \n",
    "    groups = pd.read_csv('groups.csv', sep=';')\n",
    "    groups_add = pd.read_csv('groups_add.csv', sep=',')\n",
    "    active_studs = pd.read_csv('active_studs.csv', sep=',')\n",
    "    checks = pd.read_csv('checks.csv', sep=';')\n",
    "    \n",
    "    # Проверяем новый файл на соответствие колонок и типов данных файлу groups.csv\n",
    "    \n",
    "    if groups.shape[1] == groups_add.shape[1]:\n",
    "        if(all(groups_add.iloc[:, [1]].dtypes == object) and all(groups_add.iloc[:, [0]].dtypes == 'int64')):\n",
    "    \n",
    "            # соединим данные о принадлежности пользователя к контрольной или экспериментальной группе\n",
    "        \n",
    "            all_users = groups.append(groups_add)\n",
    "            print('Слияние прошло успешно')\n",
    "        else:\n",
    "            print('Проверить новый файл')\n",
    "    else:\n",
    "        print('Проверить новый файл')\n",
    "        \n",
    "    # обогатим полученный датасет данными об активности и покупках\n",
    "    active_studs['active'] = 1\n",
    "    checks['purch'] = 1\n",
    "    \n",
    "    # Добавим в один датафрейм данные \n",
    "    df = all_users.merge(active_studs, how='outer', left_on='id', right_on='student_id').fillna(0)\n",
    "    df = df.merge(checks, how='outer', left_on='id', right_on='student_id').fillna(0)\n",
    "    df = df[['id', 'grp', 'active', 'rev', 'purch']]\n",
    "    \n",
    "    # Для расчета и анализа метрик возьмем только активных пользователей\n",
    "    df_active = df[df['active'] == 1]\n",
    "    \n",
    "    # Конверсия в активного пользователя для группы A\n",
    "    CR_A = round(df_active.query(\"grp == 'A'\").id.count() / all_users.query(\"grp == 'A'\").id.count() * 100, 2)\n",
    "    \n",
    "    # Конверсия в активного пользователя для группы В\n",
    "    CR_B = round(df_active.query(\"grp == 'B'\").id.count() / all_users.query(\"grp == 'B'\").id.count() * 100, 2)\n",
    "    \n",
    "    # Конверсия в покупку для группы A\n",
    "    CR_p_A = df_active.query(\"purch == 1 and grp == 'A'\").id.count() / df_active.query(\"grp == 'A'\").id.count() * 100\n",
    "    \n",
    "    # Конверсия в покупку для группы В\n",
    "    CR_p_B = df_active.query(\"purch == 1 and grp == 'B'\").id.count() / df_active.query(\"grp == 'B'\").id.count() * 100\n",
    "    \n",
    "    # Расчитаем ARPPU и медианный чек по группам\n",
    "    Metrics_group = df_active.query('purch == 1').groupby('grp').agg({'rev': ['mean', 'median']}).round(2)\n",
    "    Metrics_group.columns = [\"_\".join(x) for x in Metrics_group.columns.ravel()]\n",
    "    Metrics_group.rename(columns={'grp_': 'grp', 'rev_mean': 'ARPPU', 'rev_median': 'median_check'}, inplace=True)\n",
    "    \n",
    "    # Соберем метрики в один датафрейм\n",
    "    CR_purch = pd.DataFrame({'grp': ['A', 'B'], 'CR_active': [CR_A, CR_B], 'CR_purch': [CR_p_A, CR_p_B]})\n",
    "    Metrics_group = Metrics_group.merge(CR_purch, right_on='grp', left_on='grp')\n",
    "    \n",
    "    return Metrics_group"
   ]
  },
  {
   "cell_type": "code",
   "execution_count": 155,
   "metadata": {
    "pycharm": {
     "name": "#%%\n"
    }
   },
   "outputs": [
    {
     "name": "stdout",
     "output_type": "stream",
     "text": [
      "Слияние прошло успешно\n"
     ]
    },
    {
     "data": {
      "text/html": [
       "<div>\n",
       "<style scoped>\n",
       "    .dataframe tbody tr th:only-of-type {\n",
       "        vertical-align: middle;\n",
       "    }\n",
       "\n",
       "    .dataframe tbody tr th {\n",
       "        vertical-align: top;\n",
       "    }\n",
       "\n",
       "    .dataframe thead th {\n",
       "        text-align: right;\n",
       "    }\n",
       "</style>\n",
       "<table border=\"1\" class=\"dataframe\">\n",
       "  <thead>\n",
       "    <tr style=\"text-align: right;\">\n",
       "      <th></th>\n",
       "      <th>grp</th>\n",
       "      <th>ARPPU</th>\n",
       "      <th>median_check</th>\n",
       "      <th>CR_active</th>\n",
       "      <th>CR_purch</th>\n",
       "    </tr>\n",
       "  </thead>\n",
       "  <tbody>\n",
       "    <tr>\n",
       "      <th>0</th>\n",
       "      <td>A</td>\n",
       "      <td>933.59</td>\n",
       "      <td>585.0</td>\n",
       "      <td>10.47</td>\n",
       "      <td>5.07</td>\n",
       "    </tr>\n",
       "    <tr>\n",
       "      <th>1</th>\n",
       "      <td>B</td>\n",
       "      <td>1257.88</td>\n",
       "      <td>1140.0</td>\n",
       "      <td>11.36</td>\n",
       "      <td>4.62</td>\n",
       "    </tr>\n",
       "  </tbody>\n",
       "</table>\n",
       "</div>"
      ],
      "text/plain": [
       "  grp    ARPPU  median_check  CR_active  CR_purch\n",
       "0   A   933.59         585.0      10.47      5.07\n",
       "1   B  1257.88        1140.0      11.36      4.62"
      ]
     },
     "execution_count": 155,
     "metadata": {},
     "output_type": "execute_result"
    }
   ],
   "source": [
    "add_info_and_calc_metrics('https://disk.yandex.ru/d/3aARY-P9pfaksg')"
   ]
  },
  {
   "cell_type": "code",
   "execution_count": 156,
   "metadata": {
    "pycharm": {
     "name": "#%%\n"
    }
   },
   "outputs": [
    {
     "name": "stdout",
     "output_type": "stream",
     "text": [
      "Слияние прошло успешно\n"
     ]
    }
   ],
   "source": [
    "df = add_info_and_calc_metrics('https://disk.yandex.ru/d/3aARY-P9pfaksg')"
   ]
  },
  {
   "cell_type": "code",
   "execution_count": 157,
   "metadata": {
    "pycharm": {
     "name": "#%%\n"
    }
   },
   "outputs": [],
   "source": [
    "def plot_metrics(df):\n",
    "    # построим графики по метрикам\n",
    "    fig, ax = plt.subplots(nrows=2, ncols=2, figsize=(25, 15))\n",
    "    sns.barplot(x=df.grp, y=df.ARPPU, ax=ax[0][0], palette=\"rocket\").set_title('ARPPU')\n",
    "    sns.barplot(x=df.grp, y=df.median_check, ax=ax[0][1], palette=\"rocket\").set_title('Median check')\n",
    "    sns.barplot(x=df.grp, y=df.CR_active, ax=ax[1][0], palette=\"rocket\").set_title('CR active')\n",
    "    sns.barplot(x=df.grp, y=df.CR_purch, ax=ax[1][1], palette=\"rocket\").set_title('CR purches');"
   ]
  },
  {
   "cell_type": "code",
   "execution_count": 158,
   "metadata": {
    "pycharm": {
     "name": "#%%\n"
    }
   },
   "outputs": [
    {
     "data": {
      "image/png": "[encoded data removed]",
      "text/plain": [
       "<Figure size 1800x1080 with 4 Axes>"
      ]
     },
     "metadata": {},
     "output_type": "display_data"
    }
   ],
   "source": [
    "plot_metrics(df)"
   ]
  }
 ],
 "metadata": {
  "kernelspec": {
   "display_name": "Python 3",
   "language": "python",
   "name": "python3"
  },
  "language_info": {
   "codemirror_mode": {
    "name": "ipython",
    "version": 3
   },
   "file_extension": ".py",
   "mimetype": "text/x-python",
   "name": "python",
   "nbconvert_exporter": "python",
   "pygments_lexer": "ipython3",
   "version": "3.7.3"
  }
 },
 "nbformat": 4,
 "nbformat_minor": 5
}