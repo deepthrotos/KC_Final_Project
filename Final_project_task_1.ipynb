{
 "cells": [
  {
   "cell_type": "markdown",
   "metadata": {
    "pycharm": {
     "name": "#%% md\n"
    }
   },
   "source": [
    "# Проект: вариант 2\n",
    "### Задание 1. A/B–тестирование"
   ]
  },
  {
   "cell_type": "markdown",
   "metadata": {
    "pycharm": {
     "name": "#%% md\n"
    }
   },
   "source": [
    "**Условие**  \n",
    "В ходе тестирования одной гипотезы целевой группе была предложена новая механика оплаты услуг на сайте, у контрольной группы оставалась базовая механика.  \n",
    "В качестве задания Вам необходимо проанализировать итоги эксперимента и сделать вывод, стоит ли запускать новую механику оплаты на всех пользователей. \n",
    "\n",
    "Необходимо ответить на следующие вопросы:  \n",
    "На какие метрики Вы смотрите в ходе анализа и почему?  \n",
    "Имеются ли различия в показателях и с чем они могут быть связаны?  \n",
    "Являются ли эти различия статистически значимыми?  \n",
    "Стоит ли запускать новую механику на всех пользователей?  "
   ]
  },
  {
   "cell_type": "code",
   "execution_count": 1,
   "metadata": {
    "pycharm": {
     "name": "#%%\n"
    }
   },
   "outputs": [],
   "source": [
    "import pandas as pd\n",
    "import numpy as np\n",
    "from scipy.stats import chi2_contingency\n",
    "from tqdm.auto import tqdm\n",
    "import requests\n",
    "from urllib.parse import urlencode\n",
    "import seaborn as sns\n",
    "import matplotlib.pyplot as plt\n",
    "\n",
    "sns.set(\n",
    "    font_scale=1.2,\n",
    "    style=\"darkgrid\",\n",
    "    rc={'figure.figsize': (12, 5)})\n",
    "\n",
    "plt.style.use('ggplot')"
   ]
  },
  {
   "cell_type": "markdown",
   "metadata": {
    "pycharm": {
     "name": "#%% md\n"
    }
   },
   "source": [
    "**Получаем данные:**"
   ]
  },
  {
   "cell_type": "code",
   "execution_count": 2,
   "metadata": {
    "pycharm": {
     "name": "#%%\n"
    }
   },
   "outputs": [],
   "source": [
    "base_url = 'https://cloud-api.yandex.net/v1/disk/public/resources/download?'\n",
    "public_key = ['https://disk.yandex.ru/d/58Us0DWOzuWAjg', 'https://disk.yandex.ru/d/3aARY-P9pfaksg', \n",
    "              'https://disk.yandex.ru/d/prbgU-rZpiXVYg', 'https://disk.yandex.ru/d/84hTmELphW2sqQ']\n",
    "names = ['groups.csv', 'groups_add.csv', 'active_studs.csv', 'checks.csv']"
   ]
  },
  {
   "cell_type": "code",
   "execution_count": 3,
   "metadata": {
    "pycharm": {
     "name": "#%%\n"
    }
   },
   "outputs": [],
   "source": [
    "for i, k in zip(public_key, names):\n",
    "    final_url = base_url + urlencode(dict(public_key=i))\n",
    "    response = requests.get(final_url)\n",
    "    download_url = response.json()['href']\n",
    "    download_response = requests.get(download_url)\n",
    "    with open(k, 'wb') as f:\n",
    "        f.write(download_response.content)"
   ]
  },
  {
   "cell_type": "markdown",
   "metadata": {
    "pycharm": {
     "name": "#%% md\n"
    }
   },
   "source": [
    "**Изучаем датасеты:**"
   ]
  },
  {
   "cell_type": "code",
   "execution_count": 4,
   "metadata": {
    "pycharm": {
     "name": "#%%\n"
    }
   },
   "outputs": [],
   "source": [
    "# файл с информацией о принадлежности пользователя к группе (А – контроль, B – целевая группа) \n",
    "groups = pd.read_csv('groups.csv', sep=';')"
   ]
  },
  {
   "cell_type": "code",
   "execution_count": 5,
   "metadata": {
    "pycharm": {
     "name": "#%%\n"
    }
   },
   "outputs": [],
   "source": [
    "# дополнительный файл с пользователями, который вам прислали спустя 2 дня после передачи данных\n",
    "groups_add = pd.read_csv('groups_add.csv', sep=',')"
   ]
  },
  {
   "cell_type": "code",
   "execution_count": 6,
   "metadata": {
    "pycharm": {
     "name": "#%%\n"
    }
   },
   "outputs": [],
   "source": [
    "# файл с информацией о пользователях, которые зашли на платформу в дни проведения эксперимента. \n",
    "active_studs = pd.read_csv('active_studs.csv', sep=',')"
   ]
  },
  {
   "cell_type": "code",
   "execution_count": 7,
   "metadata": {
    "pycharm": {
     "name": "#%%\n"
    }
   },
   "outputs": [],
   "source": [
    "# файл с информацией об оплатах пользователей в дни проведения эксперимента. \n",
    "checks = pd.read_csv('checks.csv', sep=';')"
   ]
  },
  {
   "cell_type": "code",
   "execution_count": 8,
   "metadata": {
    "pycharm": {
     "name": "#%%\n"
    }
   },
   "outputs": [],
   "source": [
    "df = [groups, groups_add, active_studs, checks]"
   ]
  },
  {
   "cell_type": "code",
   "execution_count": 9,
   "metadata": {
    "scrolled": false,
    "pycharm": {
     "name": "#%%\n"
    }
   },
   "outputs": [
    {
     "name": "stdout",
     "output_type": "stream",
     "text": [
      "     id grp\n",
      "0  1489   B\n",
      "1  1627   A\n",
      "2  1768   B\n",
      "3  1783   B\n",
      "4  1794   A\n",
      "\n",
      "        id grp\n",
      "0  5694584   B\n",
      "1  5694830   B\n",
      "2  5695057   B\n",
      "3  5698872   B\n",
      "4  5699067   B\n",
      "\n",
      "   student_id\n",
      "0      581585\n",
      "1     5723133\n",
      "2     3276743\n",
      "3     4238589\n",
      "4     4475369\n",
      "\n",
      "   student_id    rev\n",
      "0        1627  990.0\n",
      "1        3185  690.0\n",
      "2       25973  690.0\n",
      "3       26280  690.0\n",
      "4      100300  990.0\n",
      "\n"
     ]
    }
   ],
   "source": [
    "for i in df:\n",
    "    print(i.head())\n",
    "    print('')"
   ]
  },
  {
   "cell_type": "code",
   "execution_count": 10,
   "metadata": {
    "pycharm": {
     "name": "#%%\n"
    }
   },
   "outputs": [
    {
     "name": "stdout",
     "output_type": "stream",
     "text": [
      "<class 'pandas.core.frame.DataFrame'>\n",
      "RangeIndex: 74484 entries, 0 to 74483\n",
      "Data columns (total 2 columns):\n",
      " #   Column  Non-Null Count  Dtype \n",
      "---  ------  --------------  ----- \n",
      " 0   id      74484 non-null  int64 \n",
      " 1   grp     74484 non-null  object\n",
      "dtypes: int64(1), object(1)\n",
      "memory usage: 1.1+ MB\n",
      "None\n",
      "\n",
      "<class 'pandas.core.frame.DataFrame'>\n",
      "RangeIndex: 92 entries, 0 to 91\n",
      "Data columns (total 2 columns):\n",
      " #   Column  Non-Null Count  Dtype \n",
      "---  ------  --------------  ----- \n",
      " 0   id      92 non-null     int64 \n",
      " 1   grp     92 non-null     object\n",
      "dtypes: int64(1), object(1)\n",
      "memory usage: 1.6+ KB\n",
      "None\n",
      "\n",
      "<class 'pandas.core.frame.DataFrame'>\n",
      "RangeIndex: 8341 entries, 0 to 8340\n",
      "Data columns (total 1 columns):\n",
      " #   Column      Non-Null Count  Dtype\n",
      "---  ------      --------------  -----\n",
      " 0   student_id  8341 non-null   int64\n",
      "dtypes: int64(1)\n",
      "memory usage: 65.3 KB\n",
      "None\n",
      "\n",
      "<class 'pandas.core.frame.DataFrame'>\n",
      "RangeIndex: 541 entries, 0 to 540\n",
      "Data columns (total 2 columns):\n",
      " #   Column      Non-Null Count  Dtype  \n",
      "---  ------      --------------  -----  \n",
      " 0   student_id  541 non-null    int64  \n",
      " 1   rev         541 non-null    float64\n",
      "dtypes: float64(1), int64(1)\n",
      "memory usage: 8.6 KB\n",
      "None\n",
      "\n"
     ]
    }
   ],
   "source": [
    "# получаем информацию о размерах, типах значений и ниличии пропущенных значений\n",
    "for i in df:\n",
    "    print(i.info())\n",
    "    print('')"
   ]
  },
  {
   "cell_type": "code",
   "execution_count": 11,
   "metadata": {
    "pycharm": {
     "name": "#%%\n"
    }
   },
   "outputs": [
    {
     "name": "stdout",
     "output_type": "stream",
     "text": [
      "0\n",
      "0\n",
      "0\n",
      "0\n"
     ]
    }
   ],
   "source": [
    "# есть ли дубликаты\n",
    "for i in df:\n",
    "    print(i.duplicated().sum())"
   ]
  },
  {
   "cell_type": "markdown",
   "metadata": {
    "pycharm": {
     "name": "#%% md\n"
    }
   },
   "source": [
    "В данных отсутствуют пропуски и дубликаты - можно начинать работу с ними."
   ]
  },
  {
   "cell_type": "markdown",
   "metadata": {
    "pycharm": {
     "name": "#%% md\n"
    }
   },
   "source": [
    "**Соберем файлы в датасет для анализа**"
   ]
  },
  {
   "cell_type": "code",
   "execution_count": 12,
   "metadata": {
    "pycharm": {
     "name": "#%%\n"
    }
   },
   "outputs": [],
   "source": [
    "# соединим данные о принадлежности пользователя к контрольной или экспериментальной группе\n",
    "all_users = groups.append(groups_add)"
   ]
  },
  {
   "cell_type": "code",
   "execution_count": 13,
   "metadata": {
    "pycharm": {
     "name": "#%%\n"
    }
   },
   "outputs": [
    {
     "data": {
      "text/plain": [
       "0"
      ]
     },
     "execution_count": 13,
     "metadata": {},
     "output_type": "execute_result"
    }
   ],
   "source": [
    "# сверим суммарное количество записей на всякий случай\n",
    "all_users.shape[0] - groups.shape[0] - groups_add.shape[0]"
   ]
  },
  {
   "cell_type": "code",
   "execution_count": 14,
   "metadata": {
    "pycharm": {
     "name": "#%%\n"
    }
   },
   "outputs": [],
   "source": [
    "# обогатим полученный датасет данными об активности и покупках\n",
    "active_studs['active'] = 1\n",
    "checks['purch'] = 1"
   ]
  },
  {
   "cell_type": "code",
   "execution_count": 15,
   "metadata": {
    "pycharm": {
     "name": "#%%\n"
    }
   },
   "outputs": [],
   "source": [
    "df = all_users.merge(active_studs, how='outer', left_on='id', right_on='student_id').fillna(0)"
   ]
  },
  {
   "cell_type": "code",
   "execution_count": 16,
   "metadata": {
    "pycharm": {
     "name": "#%%\n"
    }
   },
   "outputs": [],
   "source": [
    "df = df.merge(checks, how='outer', left_on='id', right_on='student_id').fillna(0)"
   ]
  },
  {
   "cell_type": "code",
   "execution_count": 17,
   "metadata": {
    "pycharm": {
     "name": "#%%\n"
    }
   },
   "outputs": [],
   "source": [
    "df = df[['id', 'grp', 'active', 'rev', 'purch']]"
   ]
  },
  {
   "cell_type": "code",
   "execution_count": 18,
   "metadata": {
    "pycharm": {
     "name": "#%%\n"
    }
   },
   "outputs": [
    {
     "data": {
      "text/html": [
       "<div>\n",
       "<style scoped>\n",
       "    .dataframe tbody tr th:only-of-type {\n",
       "        vertical-align: middle;\n",
       "    }\n",
       "\n",
       "    .dataframe tbody tr th {\n",
       "        vertical-align: top;\n",
       "    }\n",
       "\n",
       "    .dataframe thead th {\n",
       "        text-align: right;\n",
       "    }\n",
       "</style>\n",
       "<table border=\"1\" class=\"dataframe\">\n",
       "  <thead>\n",
       "    <tr style=\"text-align: right;\">\n",
       "      <th></th>\n",
       "      <th>id</th>\n",
       "      <th>grp</th>\n",
       "      <th>active</th>\n",
       "      <th>rev</th>\n",
       "      <th>purch</th>\n",
       "    </tr>\n",
       "  </thead>\n",
       "  <tbody>\n",
       "    <tr>\n",
       "      <th>0</th>\n",
       "      <td>1489</td>\n",
       "      <td>B</td>\n",
       "      <td>0.0</td>\n",
       "      <td>0.0</td>\n",
       "      <td>0.0</td>\n",
       "    </tr>\n",
       "    <tr>\n",
       "      <th>1</th>\n",
       "      <td>1627</td>\n",
       "      <td>A</td>\n",
       "      <td>1.0</td>\n",
       "      <td>990.0</td>\n",
       "      <td>1.0</td>\n",
       "    </tr>\n",
       "    <tr>\n",
       "      <th>2</th>\n",
       "      <td>1768</td>\n",
       "      <td>B</td>\n",
       "      <td>0.0</td>\n",
       "      <td>0.0</td>\n",
       "      <td>0.0</td>\n",
       "    </tr>\n",
       "    <tr>\n",
       "      <th>3</th>\n",
       "      <td>1783</td>\n",
       "      <td>B</td>\n",
       "      <td>0.0</td>\n",
       "      <td>0.0</td>\n",
       "      <td>0.0</td>\n",
       "    </tr>\n",
       "    <tr>\n",
       "      <th>4</th>\n",
       "      <td>1794</td>\n",
       "      <td>A</td>\n",
       "      <td>0.0</td>\n",
       "      <td>0.0</td>\n",
       "      <td>0.0</td>\n",
       "    </tr>\n",
       "  </tbody>\n",
       "</table>\n",
       "</div>"
      ],
      "text/plain": [
       "     id grp  active    rev  purch\n",
       "0  1489   B     0.0    0.0    0.0\n",
       "1  1627   A     1.0  990.0    1.0\n",
       "2  1768   B     0.0    0.0    0.0\n",
       "3  1783   B     0.0    0.0    0.0\n",
       "4  1794   A     0.0    0.0    0.0"
      ]
     },
     "execution_count": 18,
     "metadata": {},
     "output_type": "execute_result"
    }
   ],
   "source": [
    "df.head()"
   ]
  },
  {
   "cell_type": "markdown",
   "metadata": {
    "pycharm": {
     "name": "#%% md\n"
    }
   },
   "source": [
    "Размеры контрольной А и тестовой В групп"
   ]
  },
  {
   "cell_type": "code",
   "execution_count": 19,
   "metadata": {
    "pycharm": {
     "name": "#%%\n"
    }
   },
   "outputs": [
    {
     "data": {
      "text/plain": [
       "14693"
      ]
     },
     "execution_count": 19,
     "metadata": {},
     "output_type": "execute_result"
    }
   ],
   "source": [
    "len(df[df['grp'] == 'A'])"
   ]
  },
  {
   "cell_type": "code",
   "execution_count": 20,
   "metadata": {
    "pycharm": {
     "name": "#%%\n"
    }
   },
   "outputs": [
    {
     "data": {
      "text/plain": [
       "59883"
      ]
     },
     "execution_count": 20,
     "metadata": {},
     "output_type": "execute_result"
    }
   ],
   "source": [
    "len(df[df['grp'] == 'B'])"
   ]
  },
  {
   "cell_type": "markdown",
   "metadata": {
    "pycharm": {
     "name": "#%% md\n"
    }
   },
   "source": [
    "**Проанализируем результаты А/В теста**"
   ]
  },
  {
   "cell_type": "markdown",
   "metadata": {
    "pycharm": {
     "name": "#%% md\n"
    }
   },
   "source": [
    "Чтобы понять, стоит ли запускать новую механику оплаты на всех пользователей, нужно рассмотреть как минимум три метрики:  \n",
    "**1.CR (Conversion rate)** конверсию в покупку - так как механика оплаты является одним из основных факторов, влияющих на событие покупки. Рассчитывается как количество уникальных платящих пользователей / количество уникальных активных пользователей.  \n",
    "**2.ARPPU (Average Revenue Per Paying User)**- влияет ли механика оплаты на средний доход, который приносит платящий пользователь.\n",
    "**3.Медианный чек** - для дополнительной проверки."
   ]
  },
  {
   "cell_type": "markdown",
   "metadata": {
    "pycharm": {
     "name": "#%% md\n"
    }
   },
   "source": [
    "Для расчета и анализа метрик возьмем как активных пользователей которые зашли на платформу в дни проведения эксперимента так и  заплативших, по видимому, авансом, т.к. они не заходили на платформу, но т.к. будем изучать метрики, связанные именно с покупками, их необходимо включить для получения полной картины."
   ]
  },
  {
   "cell_type": "code",
   "execution_count": 21,
   "metadata": {
    "pycharm": {
     "name": "#%%\n"
    }
   },
   "outputs": [],
   "source": [
    "df_active = df[(df['active'] == 1) | (df['purch'] == 1)]"
   ]
  },
  {
   "cell_type": "markdown",
   "metadata": {
    "pycharm": {
     "name": "#%% md\n"
    }
   },
   "source": [
    "Рассчитаем конверсию в покупку по группам"
   ]
  },
  {
   "cell_type": "code",
   "execution_count": 22,
   "metadata": {
    "scrolled": false,
    "pycharm": {
     "name": "#%%\n"
    }
   },
   "outputs": [
    {
     "data": {
      "image/png": "[encoded data removed]",
      "text/plain": [
       "<Figure size 864x360 with 1 Axes>"
      ]
     },
     "metadata": {},
     "output_type": "display_data"
    }
   ],
   "source": [
    "sns.countplot(x=\"purch\", hue=\"grp\", data=df_active, palette='rocket');"
   ]
  },
  {
   "cell_type": "code",
   "execution_count": 23,
   "metadata": {
    "scrolled": false,
    "pycharm": {
     "name": "#%%\n"
    }
   },
   "outputs": [
    {
     "name": "stdout",
     "output_type": "stream",
     "text": [
      "Конверсия в покупку для группы A равна 6.83\n",
      "Конверсия в покупку для группы B равна 6.27\n"
     ]
    }
   ],
   "source": [
    "# Конверсия в покупку\n",
    "for i in ['A', 'B']:\n",
    "    con_ = round(df_active[(df_active['grp'] == i) & (df_active['purch'] == 1)]\n",
    "                 .id.count() / df_active[df_active['grp'] == i].id.count() * 100, 2)\n",
    "    print(f'Конверсия в покупку для группы {i} равна {con_}')"
   ]
  },
  {
   "cell_type": "markdown",
   "metadata": {
    "pycharm": {
     "name": "#%% md\n"
    }
   },
   "source": [
    "Конверсия в группах А и В отличается, но необходимо проверить гипотезу о взаимосвязи между переменными с помощью статистического теста.  \n",
    "Так как имеются две категориальные переменные , используем хи-квадрат.  \n",
    "- $H_0$: взаимосвязи между переменными нет \n",
    "- $H_1$: взаимосвязь есть"
   ]
  },
  {
   "cell_type": "code",
   "execution_count": 24,
   "metadata": {
    "scrolled": true,
    "pycharm": {
     "name": "#%%\n"
    }
   },
   "outputs": [
    {
     "data": {
      "text/html": [
       "<div>\n",
       "<style scoped>\n",
       "    .dataframe tbody tr th:only-of-type {\n",
       "        vertical-align: middle;\n",
       "    }\n",
       "\n",
       "    .dataframe tbody tr th {\n",
       "        vertical-align: top;\n",
       "    }\n",
       "\n",
       "    .dataframe thead th {\n",
       "        text-align: right;\n",
       "    }\n",
       "</style>\n",
       "<table border=\"1\" class=\"dataframe\">\n",
       "  <thead>\n",
       "    <tr style=\"text-align: right;\">\n",
       "      <th>purch</th>\n",
       "      <th>0.0</th>\n",
       "      <th>1.0</th>\n",
       "    </tr>\n",
       "    <tr>\n",
       "      <th>grp</th>\n",
       "      <th></th>\n",
       "      <th></th>\n",
       "    </tr>\n",
       "  </thead>\n",
       "  <tbody>\n",
       "    <tr>\n",
       "      <th>A</th>\n",
       "      <td>1460</td>\n",
       "      <td>107</td>\n",
       "    </tr>\n",
       "    <tr>\n",
       "      <th>B</th>\n",
       "      <td>6489</td>\n",
       "      <td>434</td>\n",
       "    </tr>\n",
       "  </tbody>\n",
       "</table>\n",
       "</div>"
      ],
      "text/plain": [
       "purch   0.0  1.0\n",
       "grp             \n",
       "A      1460  107\n",
       "B      6489  434"
      ]
     },
     "execution_count": 24,
     "metadata": {},
     "output_type": "execute_result"
    }
   ],
   "source": [
    "pd.crosstab(df_active.grp, df_active.purch)"
   ]
  },
  {
   "cell_type": "code",
   "execution_count": 25,
   "metadata": {
    "pycharm": {
     "name": "#%%\n"
    }
   },
   "outputs": [],
   "source": [
    "stat, p, dof, expected = chi2_contingency(pd.crosstab(df_active.grp, df_active.purch))"
   ]
  },
  {
   "cell_type": "code",
   "execution_count": 26,
   "metadata": {
    "pycharm": {
     "name": "#%%\n"
    }
   },
   "outputs": [
    {
     "name": "stdout",
     "output_type": "stream",
     "text": [
      "Уровень значимости p > 0.05, а значит полученные отклонения не являются статзначимыми - не отклоняем H0\n"
     ]
    }
   ],
   "source": [
    "prob = 0.95\n",
    "alpha = 1.0 - prob\n",
    "if p <= alpha:\n",
    "    print('Уровень значимости p < 0.05, а значит полученные отклонения являются статзначимыми - отклоняем H0')\n",
    "else:\n",
    "    print('Уровень значимости p > 0.05, а значит полученные отклонения не являются статзначимыми - не отклоняем H0')"
   ]
  },
  {
   "cell_type": "markdown",
   "metadata": {
    "pycharm": {
     "name": "#%% md\n"
    }
   },
   "source": [
    "**Расчитаем ARPPU и медианный чек по группам**"
   ]
  },
  {
   "cell_type": "code",
   "execution_count": 27,
   "metadata": {
    "pycharm": {
     "name": "#%%\n"
    }
   },
   "outputs": [],
   "source": [
    "Metrics_group = df_active.query('purch == 1').groupby('grp').agg({'rev': ['mean', 'median']}).round(2)"
   ]
  },
  {
   "cell_type": "code",
   "execution_count": 28,
   "metadata": {
    "pycharm": {
     "name": "#%%\n"
    }
   },
   "outputs": [
    {
     "data": {
      "text/html": [
       "<div>\n",
       "<style scoped>\n",
       "    .dataframe tbody tr th:only-of-type {\n",
       "        vertical-align: middle;\n",
       "    }\n",
       "\n",
       "    .dataframe tbody tr th {\n",
       "        vertical-align: top;\n",
       "    }\n",
       "\n",
       "    .dataframe thead tr th {\n",
       "        text-align: left;\n",
       "    }\n",
       "\n",
       "    .dataframe thead tr:last-of-type th {\n",
       "        text-align: right;\n",
       "    }\n",
       "</style>\n",
       "<table border=\"1\" class=\"dataframe\">\n",
       "  <thead>\n",
       "    <tr>\n",
       "      <th></th>\n",
       "      <th colspan=\"2\" halign=\"left\">rev</th>\n",
       "    </tr>\n",
       "    <tr>\n",
       "      <th></th>\n",
       "      <th>mean</th>\n",
       "      <th>median</th>\n",
       "    </tr>\n",
       "    <tr>\n",
       "      <th>grp</th>\n",
       "      <th></th>\n",
       "      <th></th>\n",
       "    </tr>\n",
       "  </thead>\n",
       "  <tbody>\n",
       "    <tr>\n",
       "      <th>A</th>\n",
       "      <td>860.71</td>\n",
       "      <td>690.0</td>\n",
       "    </tr>\n",
       "    <tr>\n",
       "      <th>B</th>\n",
       "      <td>1108.82</td>\n",
       "      <td>935.0</td>\n",
       "    </tr>\n",
       "  </tbody>\n",
       "</table>\n",
       "</div>"
      ],
      "text/plain": [
       "         rev       \n",
       "        mean median\n",
       "grp                \n",
       "A     860.71  690.0\n",
       "B    1108.82  935.0"
      ]
     },
     "execution_count": 28,
     "metadata": {},
     "output_type": "execute_result"
    }
   ],
   "source": [
    "Metrics_group"
   ]
  },
  {
   "cell_type": "markdown",
   "metadata": {
    "pycharm": {
     "name": "#%% md\n"
    }
   },
   "source": [
    "На первый взгляд, различия существенны, но необходимо проверить эту гипотезу."
   ]
  },
  {
   "cell_type": "markdown",
   "metadata": {
    "pycharm": {
     "name": "#%% md\n"
    }
   },
   "source": [
    "**Посмотрим распределение сумм покупок**"
   ]
  },
  {
   "cell_type": "code",
   "execution_count": 29,
   "metadata": {
    "pycharm": {
     "name": "#%%\n"
    }
   },
   "outputs": [],
   "source": [
    "df_ = df_active.query('purch == 1 ')"
   ]
  },
  {
   "cell_type": "code",
   "execution_count": 30,
   "metadata": {
    "pycharm": {
     "name": "#%%\n"
    }
   },
   "outputs": [
    {
     "data": {
      "image/png": "[encoded data removed]",
      "text/plain": [
       "<Figure size 864x360 with 2 Axes>"
      ]
     },
     "metadata": {},
     "output_type": "display_data"
    }
   ],
   "source": [
    "g = sns.FacetGrid(df_, col='grp', height=5, aspect=1.2)\n",
    "g.map_dataframe(sns.histplot, x='rev');"
   ]
  },
  {
   "cell_type": "markdown",
   "metadata": {
    "pycharm": {
     "name": "#%% md\n"
    }
   },
   "source": [
    "В тестовой группе по сравнению с контрольной наблюдается аномально большое число покупок услуги за 1900 руб - возможно ошибки?"
   ]
  },
  {
   "cell_type": "code",
   "execution_count": 31,
   "metadata": {
    "pycharm": {
     "name": "#%%\n"
    }
   },
   "outputs": [
    {
     "data": {
      "text/plain": [
       "1900.0000    97\n",
       "290.0000     63\n",
       "690.0000     59\n",
       "199.0000     39\n",
       "1900.0001    36\n",
       "Name: rev, dtype: int64"
      ]
     },
     "execution_count": 31,
     "metadata": {},
     "output_type": "execute_result"
    }
   ],
   "source": [
    "df_[df_['grp'] == 'B'].rev.value_counts().head()"
   ]
  },
  {
   "cell_type": "code",
   "execution_count": 32,
   "metadata": {
    "pycharm": {
     "name": "#%%\n"
    }
   },
   "outputs": [
    {
     "data": {
      "image/png": "[encoded data removed]",
      "text/plain": [
       "<Figure size 864x360 with 2 Axes>"
      ]
     },
     "metadata": {},
     "output_type": "display_data"
    }
   ],
   "source": [
    "g = sns.FacetGrid(df_, col='grp', height=5, aspect=1.2)\n",
    "g.map_dataframe(sns.boxplot, x='rev');"
   ]
  },
  {
   "cell_type": "markdown",
   "metadata": {
    "pycharm": {
     "name": "#%% md\n"
    }
   },
   "source": [
    "Из графика понятно, что распределение не является нормальным, поэтому чтобы проверить гипотезу о равенстве средних в группах A и В как наиболее удобный и универсальный метод можно применить bootstrap, т.к. Манн-Уитни проверяет гипотезу о равенстве распределений."
   ]
  },
  {
   "cell_type": "markdown",
   "metadata": {
    "pycharm": {
     "name": "#%% md\n"
    }
   },
   "source": [
    "**Применим бутстрап**"
   ]
  },
  {
   "cell_type": "markdown",
   "metadata": {
    "pycharm": {
     "name": "#%% md\n"
    }
   },
   "source": [
    "- $H_0$: средние (медианы) выборок равны или разница между средними (медианами) равна нулю.\n",
    "- $H_1$: средние (медианы) выборок не равны или разница между средними (медианами) не равна нулю."
   ]
  },
  {
   "cell_type": "code",
   "execution_count": 33,
   "metadata": {
    "pycharm": {
     "name": "#%%\n"
    }
   },
   "outputs": [],
   "source": [
    "# Объявим функцию, которая позволит проверять гипотезы с помощью бутстрапа\n",
    "def get_bootstrap(\n",
    "    data_column_1,                      # числовые значения первой выборки\n",
    "    data_column_2,                      # числовые значения второй выборки\n",
    "    boot_it=1000,                       # количество bootstrap-подвыборок\n",
    "    statistic=np.mean,                  # интересующая нас статистика\n",
    "    bootstrap_conf_level=0.95           # уровень значимости\n",
    "):\n",
    "    boot_len = max([len(data_column_1), len(data_column_2)])\n",
    "    boot_data = []\n",
    "    for i in tqdm(range(boot_it)):          # извлекаем подвыборки\n",
    "        samples_1 = data_column_1.sample(boot_len, replace=True).values\n",
    "        \n",
    "        samples_2 = data_column_2.sample(boot_len, replace=True).values\n",
    "        \n",
    "        boot_data.append(statistic(samples_1) - statistic(samples_2))    \n",
    "        \n",
    "    pd_boot_data = pd.DataFrame(boot_data)\n",
    "        \n",
    "    left_quant = (1 - bootstrap_conf_level) / 2\n",
    "    right_quant = 1 - (1 - bootstrap_conf_level) / 2\n",
    "    ci = pd_boot_data.quantile([left_quant, right_quant])     \n",
    "        \n",
    "    # Визуализация\n",
    "    plt.hist(pd_boot_data[0], bins=50)\n",
    "    \n",
    "    plt.style.use('ggplot')\n",
    "    plt.vlines(ci, ymin=0, ymax=60, linestyle='--', colors='black')\n",
    "    plt.xlabel('boot_data')\n",
    "    plt.ylabel('frequency')\n",
    "    plt.title(\"Histogram of boot_data\")\n",
    "    plt.show()\n",
    "       \n",
    "    return {\"boot_data\": boot_data, \n",
    "            \"ci\": ci}"
   ]
  },
  {
   "cell_type": "markdown",
   "metadata": {
    "pycharm": {
     "name": "#%% md\n"
    }
   },
   "source": [
    "**для ARPPU**"
   ]
  },
  {
   "cell_type": "code",
   "execution_count": 34,
   "metadata": {
    "pycharm": {
     "name": "#%%\n"
    }
   },
   "outputs": [
    {
     "data": {
      "application/vnd.jupyter.widget-view+json": {
       "model_id": "90e9bc871ab7473898ef29acd8796eba",
       "version_major": 2,
       "version_minor": 0
      },
      "text/plain": [
       "HBox(children=(FloatProgress(value=0.0, max=5000.0), HTML(value='')))"
      ]
     },
     "metadata": {},
     "output_type": "display_data"
    },
    {
     "name": "stdout",
     "output_type": "stream",
     "text": [
      "\n"
     ]
    },
    {
     "data": {
      "image/png": "[encoded data removed]",
      "text/plain": [
       "<Figure size 864x360 with 1 Axes>"
      ]
     },
     "metadata": {},
     "output_type": "display_data"
    }
   ],
   "source": [
    "booted_data_mean = get_bootstrap(df_active.query(\"purch == 1 and grp == 'A'\").rev, \n",
    "                                 df_active.query(\"purch == 1 and grp == 'B'\").rev, boot_it=5000)"
   ]
  },
  {
   "cell_type": "code",
   "execution_count": 35,
   "metadata": {
    "pycharm": {
     "name": "#%%\n"
    }
   },
   "outputs": [
    {
     "data": {
      "text/html": [
       "<div>\n",
       "<style scoped>\n",
       "    .dataframe tbody tr th:only-of-type {\n",
       "        vertical-align: middle;\n",
       "    }\n",
       "\n",
       "    .dataframe tbody tr th {\n",
       "        vertical-align: top;\n",
       "    }\n",
       "\n",
       "    .dataframe thead th {\n",
       "        text-align: right;\n",
       "    }\n",
       "</style>\n",
       "<table border=\"1\" class=\"dataframe\">\n",
       "  <thead>\n",
       "    <tr style=\"text-align: right;\">\n",
       "      <th></th>\n",
       "      <th>0</th>\n",
       "    </tr>\n",
       "  </thead>\n",
       "  <tbody>\n",
       "    <tr>\n",
       "      <th>0.025</th>\n",
       "      <td>-347.829503</td>\n",
       "    </tr>\n",
       "    <tr>\n",
       "      <th>0.975</th>\n",
       "      <td>-146.861415</td>\n",
       "    </tr>\n",
       "  </tbody>\n",
       "</table>\n",
       "</div>"
      ],
      "text/plain": [
       "                0\n",
       "0.025 -347.829503\n",
       "0.975 -146.861415"
      ]
     },
     "execution_count": 35,
     "metadata": {},
     "output_type": "execute_result"
    }
   ],
   "source": [
    "booted_data_mean[\"ci\"]"
   ]
  },
  {
   "cell_type": "markdown",
   "metadata": {
    "pycharm": {
     "name": "#%% md\n"
    }
   },
   "source": [
    "Так как в 95% случаев 0 не попадает в доверительный интервал, рассчитанный по бутстреп-выборкам, можно сделать вывод, что полученные отклонения в значениях средних являются статзначимыми - отклоняем H0"
   ]
  },
  {
   "cell_type": "markdown",
   "metadata": {
    "pycharm": {
     "name": "#%% md\n"
    }
   },
   "source": [
    "**Для медианного чека**"
   ]
  },
  {
   "cell_type": "code",
   "execution_count": 36,
   "metadata": {
    "scrolled": false,
    "pycharm": {
     "name": "#%%\n"
    }
   },
   "outputs": [
    {
     "data": {
      "application/vnd.jupyter.widget-view+json": {
       "model_id": "82118beab4eb4fe9a27f0e46e708f4d3",
       "version_major": 2,
       "version_minor": 0
      },
      "text/plain": [
       "HBox(children=(FloatProgress(value=0.0, max=5000.0), HTML(value='')))"
      ]
     },
     "metadata": {},
     "output_type": "display_data"
    },
    {
     "name": "stdout",
     "output_type": "stream",
     "text": [
      "\n"
     ]
    },
    {
     "data": {
      "image/png": "[encoded data removed]",
      "text/plain": [
       "<Figure size 864x360 with 1 Axes>"
      ]
     },
     "metadata": {},
     "output_type": "display_data"
    }
   ],
   "source": [
    "booted_data_median = get_bootstrap(df_active.query(\"purch == 1 and grp == 'A'\").rev, \n",
    "                                   df_active.query(\"purch == 1 and grp == 'B'\").rev, \n",
    "                                   boot_it=5000, statistic=np.median)"
   ]
  },
  {
   "cell_type": "code",
   "execution_count": 37,
   "metadata": {
    "pycharm": {
     "name": "#%%\n"
    }
   },
   "outputs": [
    {
     "data": {
      "text/html": [
       "<div>\n",
       "<style scoped>\n",
       "    .dataframe tbody tr th:only-of-type {\n",
       "        vertical-align: middle;\n",
       "    }\n",
       "\n",
       "    .dataframe tbody tr th {\n",
       "        vertical-align: top;\n",
       "    }\n",
       "\n",
       "    .dataframe thead th {\n",
       "        text-align: right;\n",
       "    }\n",
       "</style>\n",
       "<table border=\"1\" class=\"dataframe\">\n",
       "  <thead>\n",
       "    <tr style=\"text-align: right;\">\n",
       "      <th></th>\n",
       "      <th>0</th>\n",
       "    </tr>\n",
       "  </thead>\n",
       "  <tbody>\n",
       "    <tr>\n",
       "      <th>0.025</th>\n",
       "      <td>-400.0</td>\n",
       "    </tr>\n",
       "    <tr>\n",
       "      <th>0.975</th>\n",
       "      <td>-150.0</td>\n",
       "    </tr>\n",
       "  </tbody>\n",
       "</table>\n",
       "</div>"
      ],
      "text/plain": [
       "           0\n",
       "0.025 -400.0\n",
       "0.975 -150.0"
      ]
     },
     "execution_count": 37,
     "metadata": {},
     "output_type": "execute_result"
    }
   ],
   "source": [
    "booted_data_median[\"ci\"]"
   ]
  },
  {
   "cell_type": "markdown",
   "metadata": {
    "pycharm": {
     "name": "#%% md\n"
    }
   },
   "source": [
    "Так как в 95% случаев 0 не попадает в доверительный интервал, рассчитанный по бутстреп-выборкам, можно сделать вывод, что полученные отклонения в значениях медиан являются статзначимыми - отклоняем H0"
   ]
  },
  {
   "cell_type": "markdown",
   "metadata": {
    "pycharm": {
     "name": "#%% md\n"
    }
   },
   "source": [
    "**Выводы:**\n",
    "1. В контрольной группе А конверсия в покупку составила 6,83%, для тестовой группы этот же показатель стал равным 6,27%, снижение конверсии составило около 8%, но это с огромной долей вероятности случайное отклонение и применение новой механики оплаты услуг на сайте не влияет на конверсию в платящего пользователя.\n",
    "2. Для контрольной группы ARPPU равен 860.71 р., а для тестовой 1108.82 р., увеличение составило около 22% и результаты стат. теста показали, что применение новой механики оплаты услуг на сайте с вероятностью 95% положительно влияет на ARPPU.\n",
    "3. Аналогично для значений медианных чеков для котрольной и тестовой группы 690.0 р. и 935 р. соответственно - рост составил около 36% и результаты стат. теста также показали с вероятностью 95% наличие положительного влияния применение новой механики на размер медианного чека.\n",
    "4. По результатам интерпретации тестов можно применить новую версию для всех пользователей. Но имеются некоторые странности в поведении пользователей - аномально высокие оплаты в контрольной группе и очень частые покупки услуги за 1900 р. в тестовой. Нужна дополнительная информация чтобы сделать окончательный вывод."
   ]
  }
 ],
 "metadata": {
  "kernelspec": {
   "display_name": "Python 3",
   "language": "python",
   "name": "python3"
  },
  "language_info": {
   "codemirror_mode": {
    "name": "ipython",
    "version": 3
   },
   "file_extension": ".py",
   "mimetype": "text/x-python",
   "name": "python",
   "nbconvert_exporter": "python",
   "pygments_lexer": "ipython3",
   "version": "3.7.3"
  }
 },
 "nbformat": 4,
 "nbformat_minor": 5
}