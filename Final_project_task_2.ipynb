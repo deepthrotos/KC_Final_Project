{
 "cells": [
  {
   "cell_type": "markdown",
   "id": "13d09af2",
   "metadata": {
    "pycharm": {
     "name": "#%% md\n"
    }
   },
   "source": [
    "### Задание 2. SQL\n",
    "#### 2.1 Очень усердные ученики.\n",
    "\n",
    "**Условие**\n",
    "Образовательные курсы состоят из различных уроков, каждый из которых состоит из нескольких маленьких заданий. Каждое такое маленькое задание называется \"горошиной\".\n",
    "Назовём очень усердным учеником того пользователя, который за текущий месяц правильно решил 20 задач.  \n",
    "  \n",
    "Дана таблица peas:"
   ]
  },
  {
   "cell_type": "markdown",
   "id": "4311f77a",
   "metadata": {
    "pycharm": {
     "name": "#%% md\n"
    }
   },
   "source": [
    "Название атрибута|\tТип атрибута |\tСмысловое значение\n",
    "-------|---------|-----------------------------\n",
    "st_id  |int      |ID ученика \n",
    "       |         |\n",
    "timest |timestamp|Время решения карточки\n",
    "       |         |\n",
    "correct|bool     |Правильно ли решена горошина? \n",
    "       |         |\n",
    "subject|text     |Дисциплина, в которой находится горошина"
   ]
  },
  {
   "cell_type": "markdown",
   "id": "7cf3f09c",
   "metadata": {
    "pycharm": {
     "name": "#%% md\n"
    }
   },
   "source": [
    "\n",
    "Необходимо написать оптимальный запрос, который даст информацию о количестве очень усердных студентов за март 2020 года.\n",
    "\n",
    "NB! Под усердным студентом мы понимаем студента, который правильно решил 20 задач за текущий месяц."
   ]
  },
  {
   "cell_type": "markdown",
   "id": "c891b52e",
   "metadata": {
    "pycharm": {
     "name": "#%% md\n"
    }
   },
   "source": [
    "**Генерируем данные**"
   ]
  },
  {
   "cell_type": "code",
   "execution_count": 1,
   "id": "e195905f",
   "metadata": {
    "pycharm": {
     "name": "#%%\n"
    }
   },
   "outputs": [],
   "source": [
    "import pandas as pd\n",
    "import numpy as np\n",
    "import random"
   ]
  },
  {
   "cell_type": "code",
   "execution_count": 2,
   "id": "3d2f4452",
   "metadata": {
    "pycharm": {
     "name": "#%%\n"
    }
   },
   "outputs": [],
   "source": [
    "st_id = np.random.randint(1000, 6000, 1000)"
   ]
  },
  {
   "cell_type": "code",
   "execution_count": 3,
   "id": "6c797186",
   "metadata": {
    "scrolled": true,
    "pycharm": {
     "name": "#%%\n"
    }
   },
   "outputs": [],
   "source": [
    "st_id = st_id.tolist() * 5"
   ]
  },
  {
   "cell_type": "code",
   "execution_count": 4,
   "id": "a35b9672",
   "metadata": {
    "pycharm": {
     "name": "#%%\n"
    }
   },
   "outputs": [],
   "source": [
    "timest = pd.date_range(start=\"2020-01-01\", end=\"2020-12-31\").strftime(\"%Y-%m-%d\").tolist()\n",
    "timest = timest * 14\n",
    "random.shuffle(timest)\n",
    "timest = timest[0:5000]"
   ]
  },
  {
   "cell_type": "code",
   "execution_count": 5,
   "id": "e847c025",
   "metadata": {
    "pycharm": {
     "name": "#%%\n"
    }
   },
   "outputs": [],
   "source": [
    "correct = np.random.randint(0, 2, 5000)"
   ]
  },
  {
   "cell_type": "code",
   "execution_count": 6,
   "id": "5ada9e26",
   "metadata": {
    "pycharm": {
     "name": "#%%\n"
    }
   },
   "outputs": [],
   "source": [
    "subject = ['math'] * 2500\n",
    "subject.extend(['physics'] * 1000)\n",
    "subject.extend(['chemistry'] * 800)\n",
    "subject.extend(['biology'] * 700)\n",
    "random.shuffle(subject)"
   ]
  },
  {
   "cell_type": "code",
   "execution_count": 7,
   "id": "46b6cc7d",
   "metadata": {
    "pycharm": {
     "name": "#%%\n"
    }
   },
   "outputs": [],
   "source": [
    "# Initialize data to Dicts of series.\n",
    "d = {'st_id': pd.Series(st_id),\n",
    "     'timest': timest,\n",
    "     'correct': pd.Series(correct),\n",
    "     'subject': pd.Series(subject)}\n",
    " \n",
    "# creates Dataframe.\n",
    "df = pd.DataFrame(d)"
   ]
  },
  {
   "cell_type": "markdown",
   "id": "46eaf1e7",
   "metadata": {
    "pycharm": {
     "name": "#%% md\n"
    }
   },
   "source": [
    "**Выгружаем данные для обработки в postgreSQL**"
   ]
  },
  {
   "cell_type": "code",
   "execution_count": 8,
   "id": "69b73d88",
   "metadata": {
    "pycharm": {
     "name": "#%%\n"
    }
   },
   "outputs": [],
   "source": [
    "df.to_csv('peas.csv', sep=',')"
   ]
  },
  {
   "cell_type": "markdown",
   "id": "e3b26cb9",
   "metadata": {
    "pycharm": {
     "name": "#%% md\n"
    }
   },
   "source": [
    "**Запрос будет выглядеть так:**\n"
   ]
  },
  {
   "cell_type": "markdown",
   "id": "7e746f63",
   "metadata": {
    "pycharm": {
     "name": "#%% md\n"
    }
   },
   "source": [
    "    select count(distinct st_id)  \n",
    "    from (  \n",
    "\t\tselect st_id, \n",
    "                date_trunc('month',timest) as month, \n",
    "                sum(correct::int) as tasks  \n",
    "\t\tfrom peas  \n",
    "\t\twhere date_trunc('month',timest) = '2020-03-01'  \n",
    "\t\tgroup by st_id, date_trunc('month',timest)  \n",
    "\t\thaving sum(correct::int) > 19  \n",
    "        ) a"
   ]
  },
  {
   "cell_type": "markdown",
   "id": "d21dfa8e",
   "metadata": {
    "pycharm": {
     "name": "#%% md\n"
    }
   },
   "source": [
    "#### 2.2 Оптимизация воронки\n",
    "\n",
    "**Условие**\n",
    "Образовательная платформа предлагает пройти студентам курсы по модели trial: студент может решить бесплатно лишь 30 горошин в день. Для неограниченного количества заданий в определенной дисциплине студенту необходимо приобрести полный доступ. Команда провела эксперимент, где был протестирован новый экран оплаты.\n",
    "\n",
    "Дана таблицы: peas (см. выше), studs:\n",
    "\n",
    "Название атрибута|\tТип атрибута| \tСмысловое значение\n",
    "-----------------|--------------|---------------------\n",
    "st_id|\tint| \tID ученика|\n",
    "test_grp|\ttext| \tМетка ученика в данном эксперименте|\n",
    "\n",
    "и checks:\n",
    "\n",
    "Название атрибута|\tТип атрибута| \tСмысловое значение\n",
    "-----------------|--------------|---------------------\n",
    "st_id|\tint |\tID ученика|\n",
    "sale_time|\ttimestamp|\tВремя покупки|\n",
    "money|\tint|\tЦена, по которой приобрели данный курс|\n",
    "subject|\ttext| \tДисциплина, на которую приобрели полный доступ|\n",
    "\n",
    "Необходимо в одном запросе выгрузить следующую информацию о группах пользователей:  \n",
    "\n",
    "- ARPU \n",
    "- ARPAU \n",
    "- CR в покупку \n",
    "- СR активного пользователя в покупку \n",
    "- CR пользователя из активности по математике (subject = ’math’) в покупку курса по математике"
   ]
  },
  {
   "cell_type": "markdown",
   "id": "2129270f",
   "metadata": {
    "pycharm": {
     "name": "#%% md\n"
    }
   },
   "source": [
    "**Сгенерируем данные для таблицы studs**  \n",
    "Кроме st_id студентов из табл. peas там должны быть st_id и других студентов, регистрировавшихся на платформе.\t"
   ]
  },
  {
   "cell_type": "code",
   "execution_count": 9,
   "id": "c32d102b",
   "metadata": {
    "pycharm": {
     "name": "#%%\n"
    }
   },
   "outputs": [],
   "source": [
    "st_id_all = df.st_id.to_list()\n",
    "st_id_add = np.random.randint(6000, 21000, 10000).tolist()\n",
    "st_id_all.extend(st_id_add)\n",
    "st_id_all = list(set(st_id_all))"
   ]
  },
  {
   "cell_type": "code",
   "execution_count": 11,
   "id": "148ef295",
   "metadata": {
    "pycharm": {
     "name": "#%%\n"
    }
   },
   "outputs": [],
   "source": [
    "test_grp = ['A'] * 3000\n",
    "test_grp.extend(['B'] * 5192)\n",
    "random.shuffle(test_grp)"
   ]
  },
  {
   "cell_type": "code",
   "execution_count": 13,
   "id": "82d4363d",
   "metadata": {
    "pycharm": {
     "name": "#%%\n"
    }
   },
   "outputs": [],
   "source": [
    "# Initialize data to Dicts of series.\n",
    "f = {'st_id': pd.Series(st_id_all),\n",
    "     'test_grp': pd.Series(test_grp)}\n",
    " \n",
    "# creates Dataframe.\n",
    "studs = pd.DataFrame(f)"
   ]
  },
  {
   "cell_type": "code",
   "execution_count": 14,
   "id": "51c34e64",
   "metadata": {
    "pycharm": {
     "name": "#%%\n"
    }
   },
   "outputs": [],
   "source": [
    "studs.to_csv('studs.csv', sep=',')"
   ]
  },
  {
   "cell_type": "markdown",
   "id": "ac4746ec",
   "metadata": {
    "pycharm": {
     "name": "#%% md\n"
    }
   },
   "source": [
    "**Сгенерируем данные для таблицы checks** "
   ]
  },
  {
   "cell_type": "code",
   "execution_count": 15,
   "id": "2ceae9c2",
   "metadata": {
    "pycharm": {
     "name": "#%%\n"
    }
   },
   "outputs": [],
   "source": [
    "st_id_pay = df.st_id.to_list()"
   ]
  },
  {
   "cell_type": "code",
   "execution_count": 16,
   "id": "afa89263",
   "metadata": {
    "pycharm": {
     "name": "#%%\n"
    }
   },
   "outputs": [],
   "source": [
    "st_id_pay = list(set(st_id_pay))[100:500]"
   ]
  },
  {
   "cell_type": "code",
   "execution_count": 17,
   "id": "505caf62",
   "metadata": {
    "pycharm": {
     "name": "#%%\n"
    }
   },
   "outputs": [],
   "source": [
    "subject_checks = ['math'] * 200\n",
    "subject_checks.extend(['physics'] * 100)\n",
    "subject_checks.extend(['chemistry'] * 70)\n",
    "subject_checks.extend(['biology'] * 30)\n",
    "random.shuffle(subject_checks)"
   ]
  },
  {
   "cell_type": "code",
   "execution_count": 19,
   "id": "01a0d9c3",
   "metadata": {
    "pycharm": {
     "name": "#%%\n"
    }
   },
   "outputs": [],
   "source": [
    "# Initialize data to Dicts of series.\n",
    "h = {'st_id': pd.Series(st_id_pay),\n",
    "     'subject': pd.Series(subject_checks)}\n",
    " \n",
    "# creates Dataframe.\n",
    "checks = pd.DataFrame(h)"
   ]
  },
  {
   "cell_type": "code",
   "execution_count": 20,
   "id": "ead67093",
   "metadata": {
    "pycharm": {
     "name": "#%%\n"
    }
   },
   "outputs": [],
   "source": [
    "checks['money'] = checks.subject.apply(\n",
    "    lambda x: 20000 if x == 'math' \n",
    "    else 15000 if x == 'physics'  \n",
    "    else 10000 if x == 'chemistry' \n",
    "    else 5000)"
   ]
  },
  {
   "cell_type": "code",
   "execution_count": 21,
   "id": "6c6d1808",
   "metadata": {
    "pycharm": {
     "name": "#%%\n"
    }
   },
   "outputs": [
    {
     "data": {
      "text/html": [
       "<div>\n",
       "<style scoped>\n",
       "    .dataframe tbody tr th:only-of-type {\n",
       "        vertical-align: middle;\n",
       "    }\n",
       "\n",
       "    .dataframe tbody tr th {\n",
       "        vertical-align: top;\n",
       "    }\n",
       "\n",
       "    .dataframe thead th {\n",
       "        text-align: right;\n",
       "    }\n",
       "</style>\n",
       "<table border=\"1\" class=\"dataframe\">\n",
       "  <thead>\n",
       "    <tr style=\"text-align: right;\">\n",
       "      <th></th>\n",
       "      <th>st_id</th>\n",
       "      <th>subject</th>\n",
       "      <th>money</th>\n",
       "    </tr>\n",
       "  </thead>\n",
       "  <tbody>\n",
       "    <tr>\n",
       "      <th>0</th>\n",
       "      <td>4360</td>\n",
       "      <td>math</td>\n",
       "      <td>20000</td>\n",
       "    </tr>\n",
       "    <tr>\n",
       "      <th>1</th>\n",
       "      <td>4361</td>\n",
       "      <td>physics</td>\n",
       "      <td>15000</td>\n",
       "    </tr>\n",
       "    <tr>\n",
       "      <th>2</th>\n",
       "      <td>4363</td>\n",
       "      <td>math</td>\n",
       "      <td>20000</td>\n",
       "    </tr>\n",
       "    <tr>\n",
       "      <th>3</th>\n",
       "      <td>2316</td>\n",
       "      <td>math</td>\n",
       "      <td>20000</td>\n",
       "    </tr>\n",
       "    <tr>\n",
       "      <th>4</th>\n",
       "      <td>4365</td>\n",
       "      <td>physics</td>\n",
       "      <td>15000</td>\n",
       "    </tr>\n",
       "  </tbody>\n",
       "</table>\n",
       "</div>"
      ],
      "text/plain": [
       "   st_id  subject  money\n",
       "0   4360     math  20000\n",
       "1   4361  physics  15000\n",
       "2   4363     math  20000\n",
       "3   2316     math  20000\n",
       "4   4365  physics  15000"
      ]
     },
     "execution_count": 21,
     "metadata": {},
     "output_type": "execute_result"
    }
   ],
   "source": [
    "checks.head()"
   ]
  },
  {
   "cell_type": "markdown",
   "id": "5241b352",
   "metadata": {
    "pycharm": {
     "name": "#%% md\n"
    }
   },
   "source": [
    "**Выгружаем данные для обработки в postgreSQL**"
   ]
  },
  {
   "cell_type": "code",
   "execution_count": 22,
   "id": "b3d07e10",
   "metadata": {
    "pycharm": {
     "name": "#%%\n"
    }
   },
   "outputs": [],
   "source": [
    "checks.to_csv('checks.csv', sep=',')"
   ]
  },
  {
   "cell_type": "markdown",
   "id": "dad6f82e",
   "metadata": {
    "pycharm": {
     "name": "#%% md\n"
    }
   },
   "source": [
    "**Запрос будет выглядеть так:**"
   ]
  },
  {
   "cell_type": "markdown",
   "id": "8029374d",
   "metadata": {
    "pycharm": {
     "name": "#%% md\n"
    }
   },
   "source": [
    "    select test_grp,\n",
    "\t\tsum(c.money)/count(s.st_id) as ARPU,\n",
    "\t\tsum(c.money)/(select count(distinct st_id)\n",
    "\t\t\t\t\t\tfrom peas p ) as ARPAU,\n",
    "\t\tcount(distinct c.st_id)::float/count(s.st_id) as CR_in_purch,\n",
    "\t\tcount(distinct c.st_id)::float/(select count(distinct st_id)\n",
    "\t\t\t\t\t\tfrom peas p ) as CR_act_in_purch,\n",
    "\t\tSUM(CASE WHEN c.subject = 'math' THEN 1 ELSE 0 END)::float/ (select count(distinct st_id)\n",
    "\t\t\t\t\t\t\t\t\t\t\t\t\t\t\t\tfrom peas p\n",
    "\t\t\t\t\t\t\t\t\t\t\t\t\t\t\t\twhere subject = 'math') as CR_act_math_in_purch\n",
    "    from studs s\n",
    "    left join checks c using(st_id)\n",
    "    GROUP BY\n",
    "        test_grp"
   ]
  }
 ],
 "metadata": {
  "kernelspec": {
   "display_name": "Python 3",
   "language": "python",
   "name": "python3"
  },
  "language_info": {
   "codemirror_mode": {
    "name": "ipython",
    "version": 3
   },
   "file_extension": ".py",
   "mimetype": "text/x-python",
   "name": "python",
   "nbconvert_exporter": "python",
   "pygments_lexer": "ipython3",
   "version": "3.8.8"
  }
 },
 "nbformat": 4,
 "nbformat_minor": 5
}